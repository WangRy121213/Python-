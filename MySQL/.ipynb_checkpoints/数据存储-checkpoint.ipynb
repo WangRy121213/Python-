{
 "cells": [
  {
   "cell_type": "code",
   "execution_count": 3,
   "metadata": {
    "scrolled": false
   },
   "outputs": [
    {
     "name": "stderr",
     "output_type": "stream",
     "text": [
      "H:\\anaconda\\lib\\site-packages\\bs4\\__init__.py:181: UserWarning: No parser was explicitly specified, so I'm using the best available HTML parser for this system (\"lxml\"). This usually isn't a problem, but if you run this code on another system, or in a different virtual environment, it may use a different parser and behave differently.\n",
      "\n",
      "The code that caused this warning is on line 193 of the file H:\\anaconda\\lib\\runpy.py. To get rid of this warning, change code that looks like this:\n",
      "\n",
      " BeautifulSoup(YOUR_MARKUP})\n",
      "\n",
      "to this:\n",
      "\n",
      " BeautifulSoup(YOUR_MARKUP, \"lxml\")\n",
      "\n",
      "  markup_type=markup_type))\n"
     ]
    },
    {
     "name": "stdout",
     "output_type": "stream",
     "text": [
      "http://www.pythonscraping.com/sites/default/files/lrg_0.jpg\n"
     ]
    },
    {
     "data": {
      "text/plain": [
       "('logo.jpg', <http.client.HTTPMessage at 0x5ee58d0>)"
      ]
     },
     "execution_count": 3,
     "metadata": {},
     "output_type": "execute_result"
    }
   ],
   "source": [
    "\"\"\"\n",
    "日期：21/05/2018\n",
    "主题：练习爬虫教程第三章--存储数据\n",
    "     练习urllib.request.urlretrieve中下载文件的方法\n",
    "\"\"\"\n",
    "from urllib.request import urlretrieve\n",
    "from urllib.request import urlopen\n",
    "from bs4 import BeautifulSoup\n",
    "\n",
    "html = urlopen(\"http://www.pythonscraping.com/\")\n",
    "bs0bj = BeautifulSoup(html)\n",
    "imageLocation = bs0bj.find(\"a\",{\"id\":\"logo\"}).find(\"img\")[\"src\"]\n",
    "print(imageLocation)\n",
    "urlretrieve(imageLocation,\"logo.jpg\")"
   ]
  },
  {
   "cell_type": "code",
   "execution_count": 5,
   "metadata": {},
   "outputs": [
    {
     "name": "stderr",
     "output_type": "stream",
     "text": [
      "H:\\anaconda\\lib\\site-packages\\bs4\\__init__.py:181: UserWarning: No parser was explicitly specified, so I'm using the best available HTML parser for this system (\"lxml\"). This usually isn't a problem, but if you run this code on another system, or in a different virtual environment, it may use a different parser and behave differently.\n",
      "\n",
      "The code that caused this warning is on line 193 of the file H:\\anaconda\\lib\\runpy.py. To get rid of this warning, change code that looks like this:\n",
      "\n",
      " BeautifulSoup(YOUR_MARKUP})\n",
      "\n",
      "to this:\n",
      "\n",
      " BeautifulSoup(YOUR_MARKUP, \"lxml\")\n",
      "\n",
      "  markup_type=markup_type))\n"
     ]
    },
    {
     "name": "stdout",
     "output_type": "stream",
     "text": [
      "http://pythonscraping.com/misc/jquery.js?v=1.4.4\n",
      "http://pythonscraping.com/misc/jquery.once.js?v=1.2\n",
      "http://pythonscraping.com/misc/drupal.js?os2esm\n",
      "http://pythonscraping.com/sites/all/themes/skeletontheme/js/jquery.mobilemenu.js?os2esm\n",
      "http://pythonscraping.com/sites/all/modules/google_analytics/googleanalytics.js?os2esm\n",
      "http://pythonscraping.com/sites/default/files/lrg_0.jpg\n",
      "http://pythonscraping.com/img/lrg%20(1).jpg\n"
     ]
    },
    {
     "data": {
      "text/plain": [
       "('H:/Desktop/downloaded/img/lrg%20(1).jpg',\n",
       " <http.client.HTTPMessage at 0x5f31c88>)"
      ]
     },
     "execution_count": 5,
     "metadata": {},
     "output_type": "execute_result"
    }
   ],
   "source": [
    "\"\"\"\n",
    "目的：将主页上的所有src属性文件都下载下来\n",
    "     并将其保存至指定的文件夹\n",
    "     1.获取图片的下载地址(getAbsoluteURL)：以http开头\n",
    "     2.将为图片生成一个特定的文件夹来保存图片\n",
    "\"\"\"\n",
    "import os\n",
    "from urllib.request import urlretrieve\n",
    "from bs4 import BeautifulSoup\n",
    "\n",
    "downloadDirectory = \"H:/Desktop/downloaded\"\n",
    "baseUrl = \"http://pythonscraping.com\"\n",
    "\n",
    "def getAbsoluteURL(baseUrl,source):\n",
    "    if source.startswith(\"http://www.\"):\n",
    "        url = \"http://\" + source[11:]\n",
    "    elif source.startswith(\"http://\"):\n",
    "        url = source\n",
    "    elif source.startswith(\"www.\"):\n",
    "        url = \"http://\" + source[4:]\n",
    "    else:\n",
    "        url = baseUrl+\"/\"+source\n",
    "    if baseUrl not in url:\n",
    "        return None\n",
    "    return url\n",
    "def getDownloadPath(baseUrl,absoluteUrl,downloadDirectory):\n",
    "    path = absoluteUrl.replace(\"www.\",\"\")\n",
    "    path = path.replace(baseUrl,\"\")\n",
    "    path = downloadDirectory + path\n",
    "    \n",
    "    directory = os.path.dirname(path)\n",
    "    if not os.path.exists(directory):\n",
    "        os.makedirs(directory)\n",
    "    return path\n",
    "\n",
    "html = urlopen(\"http://www.pythonscraping.com/\")\n",
    "bs0bj = BeautifulSoup(html)\n",
    "downloadList = bs0bj.findAll(src = True)\n",
    "\n",
    "for download in downloadList:\n",
    "    fileUrl = getAbsoluteURL(baseUrl,download[\"src\"])\n",
    "    if fileUrl is not None:\n",
    "        print(fileUrl)\n",
    "urlretrieve(fileUrl,getDownloadPath(baseUrl,fileUrl,downloadDirectory))"
   ]
  },
  {
   "cell_type": "markdown",
   "metadata": {},
   "source": [
    "# 把数据存储到CSV\n",
    "Python 的csv 库可以非常简单的修改CSV文件，甚至可以从零开始创建一个CSV文件"
   ]
  },
  {
   "cell_type": "code",
   "execution_count": 7,
   "metadata": {
    "collapsed": true
   },
   "outputs": [],
   "source": [
    "import csv\n",
    "\n",
    "csvFile = open(\"H:/Desktop/test.txt\",\"w+\")\n",
    "\n",
    "try:\n",
    "    writer = csv.writer(csvFile)\n",
    "    writer.writerow(('number','number plus 2','number times 2'))\n",
    "    for i in range(10):\n",
    "        writer.writerow((i,i+2,i*2))\n",
    "finally:\n",
    "    csvFile.close()"
   ]
  },
  {
   "cell_type": "markdown",
   "metadata": {},
   "source": [
    "# 网络数据采集的常用功能就是获取HTML表格并写入CSV文件\n",
    "\n",
    "# 用csv包来保存csv文件\n",
    "\n",
    "   ssl用于解决爬虫中的证书错误问题\n",
    "   \n",
    "   ssl._create_default_https_context = ssl._create_unverified_context\n",
    "   \n",
    "   爬取tables时td表示表的标头，th表示表的每一行的内容，爬取时应为\n",
    "   row.findAll(['td','th'])\n",
    "   \n",
    "   \n",
    "   \n",
    "   "
   ]
  },
  {
   "cell_type": "code",
   "execution_count": 21,
   "metadata": {},
   "outputs": [
    {
     "name": "stderr",
     "output_type": "stream",
     "text": [
      "H:\\anaconda\\lib\\site-packages\\bs4\\__init__.py:181: UserWarning: No parser was explicitly specified, so I'm using the best available HTML parser for this system (\"lxml\"). This usually isn't a problem, but if you run this code on another system, or in a different virtual environment, it may use a different parser and behave differently.\n",
      "\n",
      "The code that caused this warning is on line 193 of the file H:\\anaconda\\lib\\runpy.py. To get rid of this warning, change code that looks like this:\n",
      "\n",
      " BeautifulSoup(YOUR_MARKUP})\n",
      "\n",
      "to this:\n",
      "\n",
      " BeautifulSoup(YOUR_MARKUP, \"lxml\")\n",
      "\n",
      "  markup_type=markup_type))\n"
     ]
    },
    {
     "name": "stdout",
     "output_type": "stream",
     "text": [
      "the name of table is: List of text editors\n",
      "the name of table is: Text editor support for various operating systems\n",
      "the name of table is: Available languages for the UI\n",
      "the name of table is: Text editor support for common document interfaces\n",
      "the name of table is: Text editor support for basic editing features\n",
      "the name of table is: Text editor support for programming features (see source code editor)\n",
      "the name of table is: Text editor support for other programming features\n",
      "the name of table is: Text editor support for key bindings.\n",
      "the name of table is: Text editor support for remote file editing over network protocols\n",
      "the name of table is: Text editor support for some of the most common character encodings\n",
      "the name of table is: Right to left (RTL) & bidirectional (bidi) support\n",
      "the name of table is: Support for newline characters in line endings\n"
     ]
    }
   ],
   "source": [
    "import csv\n",
    "import ssl\n",
    "import os\n",
    "from urllib.request import urlopen\n",
    "from bs4 import BeautifulSoup\n",
    "\n",
    "\n",
    "#创建一个根目录来保存爬取下来的table文件\n",
    "base_dir = \"H:/Desktop/tables\"\n",
    "if not os.path.exists(base_dir):\n",
    "    os.makedirs(base_dir)\n",
    "ssl._create_default_https_context = ssl._create_unverified_context\n",
    "html = urlopen(\"https://en.wikipedia.org/wiki/Comparison_of_text_editors\")\n",
    "bs0bj = BeautifulSoup(html)\n",
    "tables = bs0bj.findAll(\"table\",{\"class\":\"wikitable\"})\n",
    "\n",
    "        \n",
    "for table in tables:\n",
    "    title = table.find(\"caption\").get_text()\n",
    "    rows = table.findAll(\"tr\")\n",
    "    csvFile = open(\"H:/Desktop/tables/\"+title+\".csv\",'wt')\n",
    "    writer = csv.writer(csvFile)\n",
    "    try:\n",
    "        for row in rows:\n",
    "            csvRow = []\n",
    "            for cell in row.findAll(['td','th']):\n",
    "                #print(\"the content of ['td','th'] is:\",cell.get_text())\n",
    "                csvRow.append(cell.get_text())\n",
    "            writer.writerow(csvRow)\n",
    "    finally:\n",
    "        csvFile.close()"
   ]
  },
  {
   "cell_type": "markdown",
   "metadata": {},
   "source": [
    "# 用pandas包来保存csv文件"
   ]
  },
  {
   "cell_type": "code",
   "execution_count": null,
   "metadata": {
    "collapsed": true
   },
   "outputs": [],
   "source": []
  },
  {
   "cell_type": "code",
   "execution_count": null,
   "metadata": {
    "collapsed": true
   },
   "outputs": [],
   "source": [
    "csvFile = open(\"H:/Desktop/test.csv\",'wt')\n",
    "writer = csv.writer(csvFile)\n",
    "\n",
    "try:\n",
    "    for row in rows:\n",
    "        csvRow = []\n",
    "    for cell in row.findAll(['td','th']):\n",
    "        csvRow.append(cell.get_text())\n",
    "        writer.writerow(csvRow)\n",
    "finally:\n",
    "    csvFile.close()"
   ]
  }
 ],
 "metadata": {
  "kernelspec": {
   "display_name": "Python 3",
   "language": "python",
   "name": "python3"
  },
  "language_info": {
   "codemirror_mode": {
    "name": "ipython",
    "version": 3
   },
   "file_extension": ".py",
   "mimetype": "text/x-python",
   "name": "python",
   "nbconvert_exporter": "python",
   "pygments_lexer": "ipython3",
   "version": "3.6.1"
  }
 },
 "nbformat": 4,
 "nbformat_minor": 2
}

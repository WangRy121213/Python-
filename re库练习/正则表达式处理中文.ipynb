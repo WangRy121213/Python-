{
 "cells": [
  {
   "cell_type": "code",
   "execution_count": 5,
   "metadata": {},
   "outputs": [
    {
     "ename": "SyntaxError",
     "evalue": "invalid syntax (<ipython-input-5-c113fecfd4f5>, line 10)",
     "output_type": "error",
     "traceback": [
      "\u001b[1;36m  File \u001b[1;32m\"<ipython-input-5-c113fecfd4f5>\"\u001b[1;36m, line \u001b[1;32m10\u001b[0m\n\u001b[1;33m    PATTERN = ur'([\\u4e00-\\u9fa5]{2,5}?(?:省|自治区|市))([\\u4e00-\\u9fa5]{2,7}?(?:市|区|县|州)){0,1}([\\u4e00-\\u9fa5]{2,7}?(?:市|区|县)){0,1}'\u001b[0m\n\u001b[1;37m                                                                                                                               ^\u001b[0m\n\u001b[1;31mSyntaxError\u001b[0m\u001b[1;31m:\u001b[0m invalid syntax\n"
     ]
    }
   ],
   "source": [
    "#!/usr/bin/env python\n",
    "#encoding: utf-8\n",
    "#description: ´Ó×Ö·û´®ÖÐÌáÈ¡Ê¡ÊÐÏØµÈÃû³Æ,ÓÃÓÚ´Ó´¿Õæ¿âÖÐ½âÎö½âÎöµØÀíÊý¾Ý\n",
    "import re\n",
    "import sys\n",
    "reload(sys)\n",
    "sys.setdefaultencoding('utf8')\n",
    "#Æ¥Åä¹æÔò±ØÐëº¬ÓÐu,¿ÉÒÔÃ»ÓÐr\n",
    "#ÕâÀïµÚÒ»¸ö·Ö×éµÄÎÊºÅÊÇÀÁ¶èÆ¥Åä,±ØÐëÕâÃ´×ö\n",
    "PATTERN = ur'([\\u4e00-\\u9fa5]{2,5}?(?:省|自治区|市))([\\u4e00-\\u9fa5]{2,7}?(?:市|区|县|州)){0,1}([\\u4e00-\\u9fa5]{2,7}?(?:市|区|县)){0,1}'\n",
    "data_list = ['北京市', '陕西省西安市雁塔区', '西班牙', '北京市海淀区', '黑龙江省佳木斯市汤原县', '内蒙古自治区赤峰市',\n",
    "'贵州省黔南州贵定县', '新疆维吾尔自治区伊犁州奎屯市']\n",
    "for data in data_list:\n",
    " data_utf8 = data.decode('utf8')\n",
    " print data_utf8\n",
    " country = data\n",
    " province = ''\n",
    " city = ''\n",
    " district = ''\n",
    " #pattern = re.compile(PATTERN3)\n",
    " pattern = re.compile(PATTERN)\n",
    " m = pattern.search(data_utf8)\n",
    " if not m:\n",
    "  print country + '|||'\n",
    "  continue\n",
    " #print m.group()\n",
    " country = 'ÖÐ¹ú'\n",
    " if m.lastindex >= 1:\n",
    "  province = m.group(1)\n",
    " if m.lastindex >= 2:\n",
    "  city = m.group(2)\n",
    " if m.lastindex >= 3:\n",
    "  district = m.group(3)\n",
    " out = '%s|%s|%s|%s' %(country, province, city, district)\n",
    " print out"
   ]
  },
  {
   "cell_type": "code",
   "execution_count": 1,
   "metadata": {},
   "outputs": [
    {
     "ename": "SyntaxError",
     "evalue": "invalid syntax (<ipython-input-1-b27e63c63add>, line 8)",
     "output_type": "error",
     "traceback": [
      "\u001b[1;36m  File \u001b[1;32m\"<ipython-input-1-b27e63c63add>\"\u001b[1;36m, line \u001b[1;32m8\u001b[0m\n\u001b[1;33m    p2 = re.compile(ur'[^\\u4e00-\\u9fa5]')\u001b[0m\n\u001b[1;37m                                       ^\u001b[0m\n\u001b[1;31mSyntaxError\u001b[0m\u001b[1;31m:\u001b[0m invalid syntax\n"
     ]
    }
   ],
   "source": [
    "import re\n",
    "import sys\n",
    "reload(sys)\n",
    "sys.setdefaultencoding(\"utf8\")\n",
    "\n",
    "def translate(str):\n",
    "    line = str.strip().decode('utf-8','ignore')\n",
    "    p2 = re.compile(ur'[^\\u4e00-\\u9fa5]')\n",
    "    zh = \"\".join(p2.split(line)).strip()\n",
    "    zh = \",\".join(zh.split())\n",
    "    outStr = zh\n",
    "    return outStr"
   ]
  },
  {
   "cell_type": "code",
   "execution_count": 24,
   "metadata": {
    "collapsed": true
   },
   "outputs": [],
   "source": [
    "import codecs\n",
    "fr = codecs.open('H:/Desktop/test1.txt','a','utf-8')\n",
    "all_utf8 = fr.write('电商')\n",
    "all_utf8"
   ]
  },
  {
   "cell_type": "code",
   "execution_count": 12,
   "metadata": {},
   "outputs": [
    {
     "data": {
      "text/plain": [
       "'utf-8'"
      ]
     },
     "execution_count": 12,
     "metadata": {},
     "output_type": "execute_result"
    }
   ],
   "source": [
    "import sys\n",
    "sys.getdefaultencoding()"
   ]
  },
  {
   "cell_type": "code",
   "execution_count": 38,
   "metadata": {},
   "outputs": [
    {
     "name": "stdout",
     "output_type": "stream",
     "text": [
      "﻿1 投入10kVB、C母分段820闭锁备自投压板   \r\n",
      "\n",
      "\n",
      "2 退出10kVB、C母分段820备投跳803压板   \r\n",
      "\n",
      "\n",
      "3 退出10kVB、C母分段820备投合820压板   \r\n",
      "\n",
      "\n",
      "4 检查2、3号主变压器分头位置一致   \r\n",
      "\n",
      "\n",
      "5 合上820断路器   \r\n",
      "\n",
      "\n",
      "6 检查820断路器确带负荷   \r\n",
      "\n",
      "\n",
      "7 检查2号、3号主变压器负荷分配正常   \r\n",
      "\n",
      "\n",
      "8 拉开802断路器   \r\n",
      "\n",
      "\n",
      "9 检查802断路器在分闸位置   \r\n",
      "\n",
      "\n",
      "10 检查3号主变压器不过负荷   \n",
      "\n",
      "检查3号主变压器不过负荷   \n"
     ]
    }
   ],
   "source": [
    "import re\n",
    "import codecs\n",
    "#用codecs函数解决编码不统一的问题，将文本先decode为unicode再encode\n",
    "f = codecs.open('H:/Desktop/test1.txt','r','utf-8')\n",
    "s = f.readlines()\n",
    "\n",
    "f.flush()\n",
    "f.close()\n",
    "for fileLine in s:\n",
    "    print(fileLine+\"\\n\")\n",
    "for fileLine in s:\n",
    "    if u'检查' in fileLine:\n",
    "        line_pattern = r'\\s*\\d+\\s?(.*)'\n",
    "\n",
    "def func(text):\n",
    "    c = re.compile(line_pattern)\n",
    "    lists = []\n",
    "    lines = text.split('\\n')\n",
    "    for line in lines:\n",
    "        r = c.findall(line)\n",
    "        if r:\n",
    "            lists.append(r[0])\n",
    "    return '\\n'.join(lists)\n",
    "            \n",
    "result = func(fileLine)\n",
    "print (result)\n"
   ]
  },
  {
   "cell_type": "code",
   "execution_count": null,
   "metadata": {
    "collapsed": true
   },
   "outputs": [],
   "source": [
    "import re\n",
    "import codecs\n",
    "#用codecs函数解决编码不统一的问题，将文本先decode为unicode再encode\n",
    "f = codecs.open('H:/Desktop/test1.txt','r','utf-8')\n",
    "s = f.readlines()\n",
    "\n",
    "f.flush()\n",
    "f.close()\n",
    "\n",
    "for fileLine in s:\n",
    "    if()\n",
    "    print(fileLine+\"\\n\")"
   ]
  },
  {
   "cell_type": "code",
   "execution_count": 2,
   "metadata": {},
   "outputs": [
    {
     "name": "stdout",
     "output_type": "stream",
     "text": [
      "红斑\n"
     ]
    }
   ],
   "source": [
    "import re\n",
    "\n",
    "tmp_str = '\"患者于两年前出现<start:sympton>红斑<end>\"'\n",
    "find_lst = re.findall('红斑',tmp_str)\n",
    "for item in find_lst:\n",
    "    print(item)"
   ]
  },
  {
   "cell_type": "code",
   "execution_count": 47,
   "metadata": {},
   "outputs": [
    {
     "data": {
      "text/plain": [
       "1"
      ]
     },
     "execution_count": 47,
     "metadata": {},
     "output_type": "execute_result"
    }
   ],
   "source": [
    "import re\n",
    "text = '天体物理学家，1938年2月生于湖南益阳。1963年毕业于北京大学地球物理系。1993年当选为中国科学院院士。2002年当选为第三世界科学院院士。中国科学院国家天文台研究员。曾任中国科学院北京天文台台长，中国科学院数学物理学部主任，1997～2000年任国际天文学联合会第十委员会主席。'\n",
    "pattern = re.findall('生于(.*)',text)\n",
    "len(pattern)\n"
   ]
  },
  {
   "cell_type": "code",
   "execution_count": 13,
   "metadata": {
    "collapsed": true
   },
   "outputs": [],
   "source": [
    "import re\n",
    "text = text = '天体物理学家，1938年2月生于湖南益阳。1963年毕业于北京大学地球物理系。1993年当选为中国科学院院士。2002年当选为第三世界科学院院士。中国科学院国家天文台研究员。曾任中国科学院北京天文台台长，中国科学院数学物理学部主任，1997～2000年任国际天文学联合会第十委员会主席。'\n",
    "\n",
    "def getInformation(text,str):\n",
    "    if str == 'subject' :\n",
    "        pattern = re.compile(r'(.*?)(学家)')\n",
    "        match = pattern.match(text)\n",
    "        return match.group()\n",
    "    if str == 'native' :\n",
    "        pattern = re.compile(r'生于(.*)')\n",
    "        match = pattern.match(text)\n",
    "        return match.group()\n",
    "    if str == 'univercity' :\n",
    "        pattern = re.compile(r'于(.*?)大学')\n",
    "        match = pattern.match(text)\n",
    "        return match.group()\n"
   ]
  },
  {
   "cell_type": "code",
   "execution_count": 15,
   "metadata": {},
   "outputs": [
    {
     "name": "stdout",
     "output_type": "stream",
     "text": [
      "天体物理学家\n"
     ]
    },
    {
     "ename": "AttributeError",
     "evalue": "'NoneType' object has no attribute 'group'",
     "output_type": "error",
     "traceback": [
      "\u001b[1;31m---------------------------------------------------------------------------\u001b[0m",
      "\u001b[1;31mAttributeError\u001b[0m                            Traceback (most recent call last)",
      "\u001b[1;32m<ipython-input-15-aee3e9991be4>\u001b[0m in \u001b[0;36m<module>\u001b[1;34m()\u001b[0m\n\u001b[0;32m      1\u001b[0m \u001b[0msubject\u001b[0m \u001b[1;33m=\u001b[0m \u001b[0mgetInformation\u001b[0m\u001b[1;33m(\u001b[0m\u001b[0mtext\u001b[0m\u001b[1;33m,\u001b[0m\u001b[1;34m'subject'\u001b[0m\u001b[1;33m)\u001b[0m\u001b[1;33m\u001b[0m\u001b[0m\n\u001b[0;32m      2\u001b[0m \u001b[0mprint\u001b[0m\u001b[1;33m(\u001b[0m\u001b[0msubject\u001b[0m\u001b[1;33m)\u001b[0m\u001b[1;33m\u001b[0m\u001b[0m\n\u001b[1;32m----> 3\u001b[1;33m \u001b[0mnative\u001b[0m \u001b[1;33m=\u001b[0m \u001b[0mgetInformation\u001b[0m\u001b[1;33m(\u001b[0m\u001b[0mtext\u001b[0m\u001b[1;33m,\u001b[0m\u001b[1;34m'native'\u001b[0m\u001b[1;33m)\u001b[0m\u001b[1;33m\u001b[0m\u001b[0m\n\u001b[0m\u001b[0;32m      4\u001b[0m \u001b[0mprint\u001b[0m\u001b[1;33m(\u001b[0m\u001b[0mnative\u001b[0m\u001b[1;33m)\u001b[0m\u001b[1;33m\u001b[0m\u001b[0m\n\u001b[0;32m      5\u001b[0m \u001b[0munivercity\u001b[0m \u001b[1;33m=\u001b[0m \u001b[0mgetInformation\u001b[0m\u001b[1;33m(\u001b[0m\u001b[0mtext\u001b[0m\u001b[1;33m,\u001b[0m\u001b[1;34m'univercity'\u001b[0m\u001b[1;33m)\u001b[0m\u001b[1;33m\u001b[0m\u001b[0m\n",
      "\u001b[1;32m<ipython-input-13-1618c0ffd858>\u001b[0m in \u001b[0;36mgetInformation\u001b[1;34m(text, str)\u001b[0m\n\u001b[0;32m     10\u001b[0m         \u001b[0mpattern\u001b[0m \u001b[1;33m=\u001b[0m \u001b[0mre\u001b[0m\u001b[1;33m.\u001b[0m\u001b[0mcompile\u001b[0m\u001b[1;33m(\u001b[0m\u001b[1;34mr'生于(.*)'\u001b[0m\u001b[1;33m)\u001b[0m\u001b[1;33m\u001b[0m\u001b[0m\n\u001b[0;32m     11\u001b[0m         \u001b[0mmatch\u001b[0m \u001b[1;33m=\u001b[0m \u001b[0mpattern\u001b[0m\u001b[1;33m.\u001b[0m\u001b[0mmatch\u001b[0m\u001b[1;33m(\u001b[0m\u001b[0mtext\u001b[0m\u001b[1;33m)\u001b[0m\u001b[1;33m\u001b[0m\u001b[0m\n\u001b[1;32m---> 12\u001b[1;33m         \u001b[1;32mreturn\u001b[0m \u001b[0mmatch\u001b[0m\u001b[1;33m.\u001b[0m\u001b[0mgroup\u001b[0m\u001b[1;33m(\u001b[0m\u001b[1;33m)\u001b[0m\u001b[1;33m\u001b[0m\u001b[0m\n\u001b[0m\u001b[0;32m     13\u001b[0m     \u001b[1;32mif\u001b[0m \u001b[0mstr\u001b[0m \u001b[1;33m==\u001b[0m \u001b[1;34m'univercity'\u001b[0m \u001b[1;33m:\u001b[0m\u001b[1;33m\u001b[0m\u001b[0m\n\u001b[0;32m     14\u001b[0m         \u001b[0mpattern\u001b[0m \u001b[1;33m=\u001b[0m \u001b[0mre\u001b[0m\u001b[1;33m.\u001b[0m\u001b[0mcompile\u001b[0m\u001b[1;33m(\u001b[0m\u001b[1;34mr'于(.*?)大学'\u001b[0m\u001b[1;33m)\u001b[0m\u001b[1;33m\u001b[0m\u001b[0m\n",
      "\u001b[1;31mAttributeError\u001b[0m: 'NoneType' object has no attribute 'group'"
     ]
    }
   ],
   "source": [
    "subject = getInformation(text,'subject')\n",
    "print(subject)\n",
    "native = getInformation(text,'native')\n",
    "print(native)\n",
    "univercity = getInformation(text,'univercity')\n",
    "print(univercity)"
   ]
  },
  {
   "cell_type": "markdown",
   "metadata": {
    "collapsed": true
   },
   "source": [
    "# 正则表达式的一般使用"
   ]
  },
  {
   "cell_type": "code",
   "execution_count": 1,
   "metadata": {},
   "outputs": [
    {
     "name": "stdout",
     "output_type": "stream",
     "text": [
      "hello\n"
     ]
    }
   ],
   "source": [
    "import re\n",
    "\n",
    "pattern = re.compile(r'hello')\n",
    "match = pattern.match('hello world!')\n",
    "if match:\n",
    "    print(match.group())"
   ]
  },
  {
   "cell_type": "markdown",
   "metadata": {
    "collapsed": true
   },
   "source": [
    "# 正则表达式过滤标点符号"
   ]
  },
  {
   "cell_type": "code",
   "execution_count": null,
   "metadata": {
    "collapsed": true
   },
   "outputs": [],
   "source": [
    "import re\n",
    "temp = \"\"\n",
    "string = re.sub(\"[\\s+\\.\\,\\'\\%\\*\\\"\\!\\:\\\\\\?]+\",temp)\n"
   ]
  }
 ],
 "metadata": {
  "kernelspec": {
   "display_name": "Python 3",
   "language": "python",
   "name": "python3"
  },
  "language_info": {
   "codemirror_mode": {
    "name": "ipython",
    "version": 3
   },
   "file_extension": ".py",
   "mimetype": "text/x-python",
   "name": "python",
   "nbconvert_exporter": "python",
   "pygments_lexer": "ipython3",
   "version": "3.6.1"
  }
 },
 "nbformat": 4,
 "nbformat_minor": 2
}

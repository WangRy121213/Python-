{
 "cells": [
  {
   "cell_type": "markdown",
   "metadata": {},
   "source": [
    "# Python3.5中，open()不同模式如r、r+ 、w+、w、a、a+ 操作区别\n",
    "\n",
    "   r  只能读\n",
    "   \n",
    "   r+ 可读可写，不会创建不存在的文件。如果直接写文件，则从顶部开始写，覆盖之前此位置的内容，如果先读后写，则会在文件最后追加内容。\n",
    "  \n",
    "   w+ 可读可写 如果文件存在 则覆盖整个文件不存在则创建\n",
    "\n",
    "   w  只能写 覆盖整个文件 不存在则创建\n",
    "   \n",
    "   a  只能写 从文件底部添加内容 不存在则创建\n",
    "   \n",
    "   a+ 可读可写 从文件顶部读取内容 从文件底部添加内容 不存在则创建\n",
    "# Python3 中的三个读\n",
    "   \n",
    "   read()     :每次读取整个文件，将文件内容放到一个字符串变量中\n",
    "    \n",
    "   readline() :；每次只读取一行\n",
    "   \n",
    "   readlines():一次读取一整个文件并且自动将文件内容分析成一个行的列表，可用for..in 读                                      \n",
    "   \n",
    "   取\n",
    "        "
   ]
  },
  {
   "cell_type": "code",
   "execution_count": 9,
   "metadata": {},
   "outputs": [
    {
     "name": "stdout",
     "output_type": "stream",
     "text": [
      "Please write the file:yyyyyyyyyy\n"
     ]
    }
   ],
   "source": [
    "file = open('H:/Desktop/file.txt','w')\n",
    "string = input('Please write the file:')\n",
    "print(string,file=file)\n",
    "file.close()"
   ]
  },
  {
   "cell_type": "code",
   "execution_count": 10,
   "metadata": {},
   "outputs": [
    {
     "name": "stdout",
     "output_type": "stream",
     "text": [
      "yyyyyyyyyy\n",
      "\n",
      "I want to fuck you,yuliioiohoihoi\n"
     ]
    }
   ],
   "source": [
    "file = open('H:/Desktop/file.txt','r+')\n",
    "string = file.read()\n",
    "print(string)\n",
    "string1 = input(\"I want to fuck you,yuli\")\n",
    "print(string1,file=file)\n",
    "file.close()"
   ]
  },
  {
   "cell_type": "code",
   "execution_count": null,
   "metadata": {
    "collapsed": true
   },
   "outputs": [],
   "source": []
  }
 ],
 "metadata": {
  "kernelspec": {
   "display_name": "Python 3",
   "language": "python",
   "name": "python3"
  },
  "language_info": {
   "codemirror_mode": {
    "name": "ipython",
    "version": 3
   },
   "file_extension": ".py",
   "mimetype": "text/x-python",
   "name": "python",
   "nbconvert_exporter": "python",
   "pygments_lexer": "ipython3",
   "version": "3.6.1"
  }
 },
 "nbformat": 4,
 "nbformat_minor": 2
}

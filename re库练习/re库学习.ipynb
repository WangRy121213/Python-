{
 "cells": [
  {
   "cell_type": "markdown",
   "metadata": {
    "collapsed": true
   },
   "source": [
    "# findall 的用法\n",
    "\n",
    "   re.findall(pattern,string,flags=0)\n",
    "   \n",
    "   函数将返回一个所有匹配的字符串的字符串列表。\n",
    "   \n",
    "   以列表形式返回全部能匹配的字符串"
   ]
  },
  {
   "cell_type": "code",
   "execution_count": 2,
   "metadata": {},
   "outputs": [
    {
     "name": "stdout",
     "output_type": "stream",
     "text": [
      "['p', 'p', 'p']\n",
      "['p', 'pp']\n"
     ]
    }
   ],
   "source": [
    "import re\n",
    "\n",
    "test = \"python is the best Pretty language,I Prefer to using Python.3 with my apple\"\n",
    "p = re.findall('p',test)\n",
    "print(p)#返回三个p\n",
    "p = re.findall('p+',test)\n",
    "print(p)#返回p和pp 加号代表一个或多个"
   ]
  },
  {
   "cell_type": "markdown",
   "metadata": {},
   "source": [
    "# re.search\n",
    "\n",
    "   在一个字符串中搜索匹配正则表达式的第一个位置 返回match对象\n",
    "   \n",
    "   re.search(pattern,string,flags=0)\n",
    "   \n",
    "   .pattern: 正则表达式的字符串或原生字符串表示\n",
    "   \n",
    "   .string : 待匹配的字符串\n",
    "   \n",
    "   .flags  : 正则表达式使用时的控制标记\n",
    "# flags参数:\n",
    "   \n",
    "   re.IGNORECASE:忽略大小写=re.I\n",
    "   \n",
    "   re.DOTALL:点任意匹配模式 让点可以匹配包括 \\n在内的任意字符=re.S"
   ]
  },
  {
   "cell_type": "code",
   "execution_count": 3,
   "metadata": {},
   "outputs": [
    {
     "name": "stdout",
     "output_type": "stream",
     "text": [
      "Hello\n"
     ]
    }
   ],
   "source": [
    "str1 = \"Hello, I love Zhang xiaoyue , life is long\"\n",
    "pattern = r'hello'\n",
    "a = re.search(pattern,str1,re.I)\n",
    "print(a.group(0))"
   ]
  },
  {
   "cell_type": "markdown",
   "metadata": {},
   "source": [
    "# Match 对象\n",
    "\n",
    "   "
   ]
  },
  {
   "cell_type": "markdown",
   "metadata": {},
   "source": [
    "# re库的另一种用法\n",
    "   \n",
    "   先把正则表达式进行编译，再进行查找"
   ]
  },
  {
   "cell_type": "code",
   "execution_count": 4,
   "metadata": {},
   "outputs": [
    {
     "name": "stdout",
     "output_type": "stream",
     "text": [
      "['hssso']\n",
      "hssso\n"
     ]
    }
   ],
   "source": [
    "str2 = \"hssso\"\n",
    "\n",
    "re1 = re.compile(r'h.{3}o')\n",
    "print(re1.findall(str2))\n",
    "print(re1.search(str2).group(0))"
   ]
  },
  {
   "cell_type": "code",
   "execution_count": null,
   "metadata": {
    "collapsed": true
   },
   "outputs": [],
   "source": []
  }
 ],
 "metadata": {
  "kernelspec": {
   "display_name": "Python 3",
   "language": "python",
   "name": "python3"
  },
  "language_info": {
   "codemirror_mode": {
    "name": "ipython",
    "version": 3
   },
   "file_extension": ".py",
   "mimetype": "text/x-python",
   "name": "python",
   "nbconvert_exporter": "python",
   "pygments_lexer": "ipython3",
   "version": "3.6.1"
  }
 },
 "nbformat": 4,
 "nbformat_minor": 2
}

{
 "cells": [
  {
   "cell_type": "code",
   "execution_count": 1,
   "metadata": {
    "collapsed": true
   },
   "outputs": [],
   "source": [
    "from bs4 import BeautifulSoup\n",
    "import requests\n",
    "import re\n",
    "\n",
    "def getMovieLinks():\n",
    "    response = requests.get(\"http://www.movie-list.com/archive.php\")\n",
    "    bs0bj = BeautifulSoup(response.text,'lxml')\n",
    "    baseUrl = 'http://www.movie-list.com'\n",
    "    links = []\n",
    "    for link in bs0bj.findAll('a',href=re.compile('/trailers/.+')):\n",
    "        newUrl = baseUrl+link.attrs['href']\n",
    "        if newUrl not in links:\n",
    "            links.append(newUrl)\n",
    "    return links"
   ]
  },
  {
   "cell_type": "code",
   "execution_count": 2,
   "metadata": {
    "collapsed": true
   },
   "outputs": [],
   "source": [
    "#找出演员的函数\n",
    "def F_Actor(Mdiv):\n",
    "    Actors = []\n",
    "    try:\n",
    "        for x in Mdiv.find('span',class_='cast').findAll('span',itemprop='name'):\n",
    "            Actors.append(x.text.lstrip())\n",
    "    except AttributeError as err:#对于没有演员的电影，将演员项置为空\n",
    "        Actors.append(None)\n",
    "    return Actors"
   ]
  },
  {
   "cell_type": "code",
   "execution_count": 3,
   "metadata": {
    "collapsed": true
   },
   "outputs": [],
   "source": [
    "def F_IMDb(Mbs0bj):\n",
    "    linkpattern = re.compile('imdb.com/title/.*')\n",
    "    link = Mbs0bj.find('a',href=linkpattern)\n",
    "    #print(link['href'])\n",
    "    if(link):\n",
    "        link = link['href']\n",
    "        #四种模式的id\n",
    "        #前两种比较常见，后两种只有两个例子 可以作为补充\n",
    "        pattern1 = re.compile(r'title/(tt\\d*)/')\n",
    "        pattern2 = re.compile(r'title/(tt\\d*)')\n",
    "        pattern3 = re.compile(r'title/(\\w*)/')\n",
    "        pattern4 = re.compile(r'http://(w*)\\.(\\w*)(.com)/')\n",
    "        try:\n",
    "            id = re.search(pattern1,link).group()\n",
    "            #id = re.search(pattern3,link).group()  \n",
    "        except:\n",
    "            id = re.search(pattern2,link).group()\n",
    "            #id = re.search(pattern4,link).group()\n",
    "        #IMDb = 'http://www.imdb.com/'+id\n",
    "        IMDb = id\n",
    "     #提取id号重新组合为新的imdb\n",
    "    else:\n",
    "        IMDb = None\n",
    "    return IMDb"
   ]
  },
  {
   "cell_type": "code",
   "execution_count": 4,
   "metadata": {
    "collapsed": true
   },
   "outputs": [],
   "source": [
    "#总的爬虫函数\n",
    "def crawlMovieItem(url):\n",
    "    headers={\n",
    "    \"User-Agent\":\"Mozilla/5.0 (Windows NT 6.1; Win64; x64) AppleWebKit/537.36 (KHTML, like Gecko) Chrome/63.0.3239.84 Safari/537.36\"\n",
    "}\n",
    "    \n",
    "    Mresponse = requests.get(url,headers=headers)\n",
    "    Mbs0bj    = BeautifulSoup(Mresponse.text,'lxml')\n",
    "    #需要抓取的内容主要在以下位置\n",
    "    Mdiv = Mbs0bj.find('div',style='padding-left:168px;')\n",
    "    Name = Mdiv.h1.text.lstrip()\n",
    "    Releasedate = Mdiv.find('span',style=\"color:#181818; font-size:12px;\").text\n",
    "    Director = Mdiv.find('span',itemprop=\"director\").find('span',itemprop='name').text\n",
    "    Genre  = []\n",
    "    for x in Mdiv.findAll('span',itemprop=\"genre\"):\n",
    "        Genre.append(x.text.lstrip())\n",
    "    Actors = F_Actor(Mdiv)\n",
    "    #IMDb网络电影资料库\n",
    "    IMDb = F_IMDb(Mbs0bj)\n",
    "    RatingCount = Mbs0bj.find('span',itemprop='ratingCount').text.lstrip()\n",
    "    RatingValue = Mbs0bj.find('span',itemprop='ratingValue').text.lstrip()\n",
    "    Movie = {'Name':Name,'ReleaseDate':Releasedate,'Director':Director,'Actors':Actors,\n",
    "             'Genre':Genre,'IMDb':IMDb,'RatingCount':RatingCount,'RatingValue':RatingValue}\n",
    "    return Movie"
   ]
  },
  {
   "cell_type": "code",
   "execution_count": 5,
   "metadata": {},
   "outputs": [
    {
     "name": "stdout",
     "output_type": "stream",
     "text": [
      "the number of movie is 5942\n",
      "'NoneType' object has no attribute 'h1' 1738\n",
      "'NoneType' object has no attribute 'h1' 1739\n",
      "'NoneType' object has no attribute 'h1' 1740\n",
      "'NoneType' object has no attribute 'h1' 1741\n",
      "'NoneType' object has no attribute 'h1' 1742\n",
      "'NoneType' object has no attribute 'h1' 1743\n",
      "'NoneType' object has no attribute 'group' 3475\n",
      "'NoneType' object has no attribute 'group' 5350\n"
     ]
    }
   ],
   "source": [
    "import json\n",
    "def crawl():\n",
    "    out = open('H:desktop/Movie.txt','w')\n",
    "    number = 0\n",
    "    try:\n",
    "        links = getMovieLinks()\n",
    "        print(\"the number of movie is\",len(links))\n",
    "        for link in links:\n",
    "            number += 1\n",
    "            try:\n",
    "                movie = crawlMovieItem(link)\n",
    "                Jmovie = json.dumps(movie)\n",
    "                print(Jmovie,file=out)\n",
    "            except AttributeError as err:\n",
    "                print(number,file=out)\n",
    "                print(err,number)\n",
    "            except ConnectionError:\n",
    "                print(number,file=out)\n",
    "                print('ConnectionError',file=out)\n",
    "    except ConnectionError:\n",
    "        print('ConnectionError')\n",
    "        #出现连接错误提前关闭文件\n",
    "        out.close()\n",
    "    out.close()\n",
    "crawl()"
   ]
  },
  {
   "cell_type": "code",
   "execution_count": 12,
   "metadata": {},
   "outputs": [
    {
     "ename": "NameError",
     "evalue": "name 'links' is not defined",
     "output_type": "error",
     "traceback": [
      "\u001b[1;31m---------------------------------------------------------------------------\u001b[0m",
      "\u001b[1;31mNameError\u001b[0m                                 Traceback (most recent call last)",
      "\u001b[1;32m<ipython-input-12-a07500095f85>\u001b[0m in \u001b[0;36m<module>\u001b[1;34m()\u001b[0m\n\u001b[1;32m----> 1\u001b[1;33m \u001b[0mMovie1\u001b[0m \u001b[1;33m=\u001b[0m \u001b[0mcrawlMovieItem\u001b[0m\u001b[1;33m(\u001b[0m\u001b[0mlinks\u001b[0m\u001b[1;33m[\u001b[0m\u001b[1;36m3450\u001b[0m\u001b[1;33m]\u001b[0m\u001b[1;33m)\u001b[0m\u001b[1;33m\u001b[0m\u001b[0m\n\u001b[0m\u001b[0;32m      2\u001b[0m \u001b[1;31m#a代表追加写入，不覆盖原文件\u001b[0m\u001b[1;33m\u001b[0m\u001b[1;33m\u001b[0m\u001b[0m\n\u001b[0;32m      3\u001b[0m \u001b[0mout\u001b[0m \u001b[1;33m=\u001b[0m \u001b[0mopen\u001b[0m\u001b[1;33m(\u001b[0m\u001b[1;34m'H:desktop/Movie.txt'\u001b[0m\u001b[1;33m,\u001b[0m\u001b[1;34m'a'\u001b[0m\u001b[1;33m)\u001b[0m\u001b[1;33m\u001b[0m\u001b[0m\n\u001b[0;32m      4\u001b[0m \u001b[0mprint\u001b[0m\u001b[1;33m(\u001b[0m\u001b[0mMovie1\u001b[0m\u001b[1;33m,\u001b[0m\u001b[0mfile\u001b[0m\u001b[1;33m=\u001b[0m\u001b[0mout\u001b[0m\u001b[1;33m)\u001b[0m\u001b[1;33m\u001b[0m\u001b[0m\n\u001b[0;32m      5\u001b[0m \u001b[0mout\u001b[0m\u001b[1;33m.\u001b[0m\u001b[0mclose\u001b[0m\u001b[1;33m(\u001b[0m\u001b[1;33m)\u001b[0m\u001b[1;33m\u001b[0m\u001b[0m\n",
      "\u001b[1;31mNameError\u001b[0m: name 'links' is not defined"
     ]
    }
   ],
   "source": [
    "Movie1 = crawlMovieItem(links[3450])\n",
    "#a代表追加写入，不覆盖原文件\n",
    "out = open('H:desktop/Movie.txt','a')\n",
    "print(Movie1,file=out)\n",
    "out.close()"
   ]
  },
  {
   "cell_type": "code",
   "execution_count": 13,
   "metadata": {},
   "outputs": [
    {
     "ename": "NameError",
     "evalue": "name 'links' is not defined",
     "output_type": "error",
     "traceback": [
      "\u001b[1;31m---------------------------------------------------------------------------\u001b[0m",
      "\u001b[1;31mNameError\u001b[0m                                 Traceback (most recent call last)",
      "\u001b[1;32m<ipython-input-13-baa1cd9141dd>\u001b[0m in \u001b[0;36m<module>\u001b[1;34m()\u001b[0m\n\u001b[1;32m----> 1\u001b[1;33m \u001b[0mMovie2\u001b[0m \u001b[1;33m=\u001b[0m \u001b[0mcrawlMovieItem\u001b[0m\u001b[1;33m(\u001b[0m\u001b[0mlinks\u001b[0m\u001b[1;33m[\u001b[0m\u001b[1;36m5310\u001b[0m\u001b[1;33m]\u001b[0m\u001b[1;33m)\u001b[0m\u001b[1;33m\u001b[0m\u001b[0m\n\u001b[0m\u001b[0;32m      2\u001b[0m \u001b[0mout\u001b[0m \u001b[1;33m=\u001b[0m \u001b[0mopen\u001b[0m\u001b[1;33m(\u001b[0m\u001b[1;34m'H:desktop/Movie.txt'\u001b[0m\u001b[1;33m,\u001b[0m\u001b[1;34m'a'\u001b[0m\u001b[1;33m)\u001b[0m\u001b[1;33m\u001b[0m\u001b[0m\n\u001b[0;32m      3\u001b[0m \u001b[0mprint\u001b[0m\u001b[1;33m(\u001b[0m\u001b[0mMovie2\u001b[0m\u001b[1;33m,\u001b[0m\u001b[0mfile\u001b[0m\u001b[1;33m=\u001b[0m\u001b[0mout\u001b[0m\u001b[1;33m)\u001b[0m\u001b[1;33m\u001b[0m\u001b[0m\n\u001b[0;32m      4\u001b[0m \u001b[0mout\u001b[0m\u001b[1;33m.\u001b[0m\u001b[0mclose\u001b[0m\u001b[1;33m(\u001b[0m\u001b[1;33m)\u001b[0m\u001b[1;33m\u001b[0m\u001b[0m\n",
      "\u001b[1;31mNameError\u001b[0m: name 'links' is not defined"
     ]
    }
   ],
   "source": [
    "Movie2 = crawlMovieItem(links[5310])\n",
    "out = open('H:desktop/Movie.txt','a')\n",
    "print(Movie2,file=out)\n",
    "out.close()"
   ]
  },
  {
   "cell_type": "markdown",
   "metadata": {},
   "source": [
    "# 将字典转为json"
   ]
  },
  {
   "cell_type": "code",
   "execution_count": 6,
   "metadata": {},
   "outputs": [
    {
     "name": "stdout",
     "output_type": "stream",
     "text": [
      "<class 'str'>\n"
     ]
    }
   ],
   "source": [
    "import json\n",
    "d = {'s':'you','d':'are'}   #给一个字典\n",
    "j = json.dumps(d)\n",
    "print(type(j))"
   ]
  },
  {
   "cell_type": "code",
   "execution_count": null,
   "metadata": {
    "collapsed": true
   },
   "outputs": [],
   "source": []
  }
 ],
 "metadata": {
  "kernelspec": {
   "display_name": "Python 3",
   "language": "python",
   "name": "python3"
  },
  "language_info": {
   "codemirror_mode": {
    "name": "ipython",
    "version": 3
   },
   "file_extension": ".py",
   "mimetype": "text/x-python",
   "name": "python",
   "nbconvert_exporter": "python",
   "pygments_lexer": "ipython3",
   "version": "3.6.1"
  }
 },
 "nbformat": 4,
 "nbformat_minor": 2
}

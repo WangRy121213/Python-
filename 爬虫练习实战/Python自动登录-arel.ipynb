{
 "cells": [
  {
   "cell_type": "code",
   "execution_count": 9,
   "metadata": {
    "collapsed": true
   },
   "outputs": [],
   "source": [
    "import gzip\n",
    "def ungzip(data):\n",
    "    try:\n",
    "        print(\"正在解码，耐心等待...\")\n",
    "        data = gzip.decompress(data)\n",
    "        print(\"解码完成...\")\n",
    "    except:\n",
    "        print(\"未经压缩，无需解压...\")\n",
    "    return data"
   ]
  },
  {
   "cell_type": "code",
   "execution_count": 2,
   "metadata": {
    "collapsed": true
   },
   "outputs": [],
   "source": [
    "import urllib.request\n",
    "import urllib\n",
    "import http.cookiejar\n",
    "\n",
    "def getOpener(head):\n",
    "    cj = http.cookiejar.CookieJar()\n",
    "    pro = urllib.request.HTTPCookieProcessor(cj)\n",
    "    opener = urllib.request.build_opener(pro)\n",
    "    header = []\n",
    "    for key,value in head.items():\n",
    "        elem = (key,value)\n",
    "        header.append(elem)\n",
    "    opener.addheaders = header\n",
    "    return opener"
   ]
  },
  {
   "cell_type": "code",
   "execution_count": 3,
   "metadata": {
    "collapsed": true
   },
   "outputs": [],
   "source": [
    "import re\n",
    "\n",
    "def getCSRF(data):\n",
    "    target = re.compile('name=\\\"_csrf\\\" value=\\\"(.*)\\\"',flags = 0)\n",
    "    strlist = target.findall(data)\n",
    "    return strlist[0]"
   ]
  },
  {
   "cell_type": "code",
   "execution_count": 4,
   "metadata": {
    "collapsed": true
   },
   "outputs": [],
   "source": [
    "header = {\n",
    "    'Connection':'Keep-Alive',\n",
    "    'Accept':'application/json,text/javascript,*/*;q=0.01',\n",
    "    'User-Agent':'User-Agent: Mozilla/5.0 (Windows NT 6.1; Win64; x64; rv:57.0) Gecko/20100101 Firefox/57.0',\n",
    "    'Accept-Encoding':'gzip,deflate',\n",
    "    'X-Requested-With':'XMLHttpRequest',\n",
    "    'Host':'http://arel.eisti.fr'\n",
    "}\n"
   ]
  },
  {
   "cell_type": "code",
   "execution_count": 5,
   "metadata": {},
   "outputs": [
    {
     "name": "stdout",
     "output_type": "stream",
     "text": [
      "<Response [407]>\n"
     ]
    }
   ],
   "source": []
  },
  {
   "cell_type": "code",
   "execution_count": 5,
   "metadata": {},
   "outputs": [
    {
     "name": "stdout",
     "output_type": "stream",
     "text": [
      "正在解码，耐心等待...\n",
      "未经压缩，无需解压...\n"
     ]
    }
   ],
   "source": [
    "url = 'http://arel.eisti.fr'\n",
    "opener = getOpener(header)\n",
    "op = opener.open(url)\n",
    "data = op.read()\n",
    "data = ungzip(data)\n",
    "#print(data)\n",
    "_csrf = '7a5abee0-6093-4851-9529-660486ded669'\n"
   ]
  },
  {
   "cell_type": "code",
   "execution_count": 11,
   "metadata": {},
   "outputs": [
    {
     "ename": "AttributeError",
     "evalue": "module 'urllib' has no attribute 'opener'",
     "output_type": "error",
     "traceback": [
      "\u001b[1;31m---------------------------------------------------------------------------\u001b[0m",
      "\u001b[1;31mAttributeError\u001b[0m                            Traceback (most recent call last)",
      "\u001b[1;32m<ipython-input-11-6787bf179ac3>\u001b[0m in \u001b[0;36m<module>\u001b[1;34m()\u001b[0m\n\u001b[0;32m     11\u001b[0m \u001b[1;33m\u001b[0m\u001b[0m\n\u001b[0;32m     12\u001b[0m \u001b[0mpostData\u001b[0m \u001b[1;33m=\u001b[0m \u001b[0murllib\u001b[0m\u001b[1;33m.\u001b[0m\u001b[0mparse\u001b[0m\u001b[1;33m.\u001b[0m\u001b[0murlencode\u001b[0m\u001b[1;33m(\u001b[0m\u001b[0mpostdict\u001b[0m\u001b[1;33m)\u001b[0m\u001b[1;33m.\u001b[0m\u001b[0mencode\u001b[0m\u001b[1;33m(\u001b[0m\u001b[1;33m)\u001b[0m\u001b[1;33m\u001b[0m\u001b[0m\n\u001b[1;32m---> 13\u001b[1;33m \u001b[0mop\u001b[0m \u001b[1;33m=\u001b[0m \u001b[0murllib\u001b[0m\u001b[1;33m.\u001b[0m\u001b[0mopener\u001b[0m\u001b[1;33m.\u001b[0m\u001b[0mopen\u001b[0m\u001b[1;33m(\u001b[0m\u001b[0murl\u001b[0m\u001b[1;33m,\u001b[0m\u001b[0mpostData\u001b[0m\u001b[1;33m)\u001b[0m\u001b[1;33m\u001b[0m\u001b[0m\n\u001b[0m\u001b[0;32m     14\u001b[0m \u001b[0mdata\u001b[0m \u001b[1;33m=\u001b[0m \u001b[0mop\u001b[0m\u001b[1;33m.\u001b[0m\u001b[0mread\u001b[0m\u001b[1;33m(\u001b[0m\u001b[1;33m)\u001b[0m\u001b[1;33m\u001b[0m\u001b[0m\n\u001b[0;32m     15\u001b[0m \u001b[0mdata\u001b[0m \u001b[1;33m=\u001b[0m \u001b[0mungzip\u001b[0m\u001b[1;33m(\u001b[0m\u001b[0mdata\u001b[0m\u001b[1;33m)\u001b[0m\u001b[1;33m\u001b[0m\u001b[0m\n",
      "\u001b[1;31mAttributeError\u001b[0m: module 'urllib' has no attribute 'opener'"
     ]
    }
   ],
   "source": [
    "import urllib.parse\n",
    "url += '/login'\n",
    "id = 'wangruoyu'\n",
    "password = 'aeh3gaeY'\n",
    "postdict = {\n",
    "    '_csrf':'',\n",
    "    'j_username':id,\n",
    "    'j_password':password,\n",
    "    #'action' : 'login'\n",
    "}\n",
    "\n",
    "postData = urllib.parse.urlencode(postdict).encode()\n",
    "op = .opener.open(url,postData)\n",
    "data = op.read()\n",
    "data = ungzip(data)\n",
    "\n",
    "print(data.decode())"
   ]
  },
  {
   "cell_type": "code",
   "execution_count": null,
   "metadata": {
    "collapsed": true
   },
   "outputs": [],
   "source": []
  }
 ],
 "metadata": {
  "kernelspec": {
   "display_name": "Python 3",
   "language": "python",
   "name": "python3"
  },
  "language_info": {
   "codemirror_mode": {
    "name": "ipython",
    "version": 3
   },
   "file_extension": ".py",
   "mimetype": "text/x-python",
   "name": "python",
   "nbconvert_exporter": "python",
   "pygments_lexer": "ipython3",
   "version": "3.6.1"
  }
 },
 "nbformat": 4,
 "nbformat_minor": 2
}

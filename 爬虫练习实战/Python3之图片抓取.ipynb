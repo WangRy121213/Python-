{
 "cells": [
  {
   "cell_type": "code",
   "execution_count": 1,
   "metadata": {},
   "outputs": [
    {
     "name": "stdout",
     "output_type": "stream",
     "text": [
      "[]\n"
     ]
    }
   ],
   "source": [
    "import urllib.request\n",
    "from urllib.request import urlopen\n",
    "import os\n",
    "import re\n",
    "\n",
    "targetDir = r\"H:Desktop/Photos\"#文件保存路径\n",
    "\n",
    "def destFile(path):\n",
    "    if not os.path.isdir(targetDir):\n",
    "        os.mkdir(targetDir)\n",
    "    pos = path.rindex(\"/\")\n",
    "    t = os.path.join(targetDir,path[pos+1:])\n",
    "    return t\n",
    "\n",
    "pattern = re.compile(r'http.+$(.jpg|png|gif)')\n",
    "\n",
    "link = urlopen(\"http://dzh.mop.com/\")\n",
    "html_doc = link.read().decode(\"utf-8\")\n",
    "\n",
    "photo_find = re.findall(pattern,html_doc)\n",
    "print(photo_find)"
   ]
  },
  {
   "cell_type": "code",
   "execution_count": 3,
   "metadata": {},
   "outputs": [
    {
     "name": "stdout",
     "output_type": "stream",
     "text": [
      "H:Desktop/12306.jpg\n"
     ]
    }
   ],
   "source": [
    "targetDir = r\"H:Desktop/\"  #文件保存路径\n",
    "def destFile(path):  \n",
    "    if not os.path.isdir(targetDir):  \n",
    "        os.mkdir(targetDir)  \n",
    "    pos = path.rindex('/')  \n",
    "    t = os.path.join(targetDir, path[pos+1:])  \n",
    "    return t \n",
    "path = 'http://www.cctv.com/12306.jpg'\n",
    "t = destFile(path)\n",
    "print(t)"
   ]
  },
  {
   "cell_type": "code",
   "execution_count": null,
   "metadata": {
    "collapsed": true
   },
   "outputs": [],
   "source": []
  }
 ],
 "metadata": {
  "kernelspec": {
   "display_name": "Python 3",
   "language": "python",
   "name": "python3"
  },
  "language_info": {
   "codemirror_mode": {
    "name": "ipython",
    "version": 3
   },
   "file_extension": ".py",
   "mimetype": "text/x-python",
   "name": "python",
   "nbconvert_exporter": "python",
   "pygments_lexer": "ipython3",
   "version": "3.6.1"
  }
 },
 "nbformat": 4,
 "nbformat_minor": 2
}

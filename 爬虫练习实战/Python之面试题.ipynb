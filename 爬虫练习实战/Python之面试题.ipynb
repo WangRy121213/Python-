{
 "cells": [
  {
   "cell_type": "code",
   "execution_count": 2,
   "metadata": {},
   "outputs": [
    {
     "name": "stdout",
     "output_type": "stream",
     "text": [
      "<Response [201]>\n",
      "{\"message\": \"Candidature d\\u00e9j\\u00e0 enregistr\\u00e9e, voici une nouvelle url de confirmation\", \"confirmation_url\": \"http://hire.netsach.eu/confirm-job-application/f45b4cf5-cbdf-4c35-8649-6d96e2708ecb/\"}\n",
      "http://hire.netsach.eu/confirm-job-application/f45b4cf5-cbdf-4c35-8649-6d96e2708ecb/\n",
      "{\"message\": \"Merci, nous ne manquerons pas de vous contacter.\"}\n"
     ]
    }
   ],
   "source": [
    "import requests\n",
    "import json\n",
    "#Step_One\n",
    "url = \"http://hire.netsach.eu/create-job-application/\"\n",
    "session = requests.Session()\n",
    "params  = {'email':'wangruoyu@eisti.eu','first_name':'Wang','last_name':'Ruoyu'}\n",
    "s = session.post(url,params)\n",
    "print(s)\n",
    "print(s.content.decode())\n",
    "#Convert documents from json to dictionary\n",
    "unicodestr = json.loads(s.content.decode())\n",
    "confirmation_url = unicodestr['confirmation_url']\n",
    "print(confirmation_url)\n",
    "#Step_Two\n",
    "deux_session = requests.Session()\n",
    "deux_params  = {'email':'wangruoyu@eisti.eu','first_name':'Wang','last_name':'Ruoyu','confirmed':True}\n",
    "deux_s = session.post(confirmation_url,deux_params)\n",
    "print(deux_s.content.decode())"
   ]
  },
  {
   "cell_type": "code",
   "execution_count": null,
   "metadata": {
    "collapsed": true
   },
   "outputs": [],
   "source": []
  }
 ],
 "metadata": {
  "kernelspec": {
   "display_name": "Python 3",
   "language": "python",
   "name": "python3"
  },
  "language_info": {
   "codemirror_mode": {
    "name": "ipython",
    "version": 3
   },
   "file_extension": ".py",
   "mimetype": "text/x-python",
   "name": "python",
   "nbconvert_exporter": "python",
   "pygments_lexer": "ipython3",
   "version": "3.6.1"
  }
 },
 "nbformat": 4,
 "nbformat_minor": 2
}

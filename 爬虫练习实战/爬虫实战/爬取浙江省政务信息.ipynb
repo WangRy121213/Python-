{
 "cells": [
  {
   "cell_type": "code",
   "execution_count": 120,
   "metadata": {},
   "outputs": [],
   "source": [
    "from bs4 import BeautifulSoup\n",
    "import requests\n",
    "import pandas as pd\n",
    "import re\n",
    "\n",
    "\n",
    "def get_golisturl(Depart):\n",
    "    pattern = re.compile(r'\\d+') \n",
    "    #保存部门网络编号与部门名字\n",
    "    dept = [];name = []\n",
    "    for link in Depart.findAll('div'):\n",
    "        #将各部门的网络编号提取出来\n",
    "        dept.append(pattern.search(link.attrs['class'][1]).group())\n",
    "        name.append(link.attrs['title'])\n",
    "    return dept,name\n",
    "def get_Department_Link_Name():\n",
    "    response = requests.get(\"http://www.zjzwfw.gov.cn/zjzw/item/list/gr_index.do?webId=2\")\n",
    "    bs0bj = BeautifulSoup(response.text,'lxml')\n",
    "    #city_name = bs0bj.find('span',class_=\"site_nav_tit\")\n",
    "    #print(city_name)\n",
    "    depart_list = bs0bj.find('div',class_=\"left_list_main\")\n",
    "    h = 0\n",
    "    for link in depart_list:\n",
    "        if h==7:\n",
    "            Depart = link\n",
    "        h+=1\n",
    "    dept,name = get_golisturl(Depart)\n",
    "    return dept,name\n",
    "dept,name = get_Department_Link_Name()"
   ]
  },
  {
   "cell_type": "code",
   "execution_count": 135,
   "metadata": {},
   "outputs": [
    {
     "name": "stdout",
     "output_type": "stream",
     "text": [
      "http://www.zjzwfw.gov.cn/zjzw/item/list/gr_index.do?webId=2&deptid=19940612\n",
      "None\n"
     ]
    }
   ],
   "source": [
    "def get_Document_Link_Name(url,name):\n",
    "    baseUrl = \"http://www.zjzwfw.gov.cn/zjzw/item/list/gr_index.do?webId=2&deptid=\"\n",
    "    url = baseUrl + url\n",
    "    print(url)\n",
    "    response = requests.get(url)\n",
    "    bs0bj = BeautifulSoup(response.text,'lxml')\n",
    "    docu_name = bs0bj.find(\"a\",id_=\"hreftag\")\n",
    "    print(docu_name)\n",
    "get_Document_Link_Name(dept[0],name[0])"
   ]
  },
  {
   "cell_type": "code",
   "execution_count": null,
   "metadata": {
    "collapsed": true
   },
   "outputs": [],
   "source": []
  }
 ],
 "metadata": {
  "kernelspec": {
   "display_name": "Python 3",
   "language": "python",
   "name": "python3"
  },
  "language_info": {
   "codemirror_mode": {
    "name": "ipython",
    "version": 3
   },
   "file_extension": ".py",
   "mimetype": "text/x-python",
   "name": "python",
   "nbconvert_exporter": "python",
   "pygments_lexer": "ipython3",
   "version": "3.6.1"
  }
 },
 "nbformat": 4,
 "nbformat_minor": 2
}

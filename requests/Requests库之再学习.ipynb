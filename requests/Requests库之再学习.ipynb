{
 "cells": [
  {
   "cell_type": "code",
   "execution_count": 33,
   "metadata": {},
   "outputs": [
    {
     "name": "stdout",
     "output_type": "stream",
     "text": [
      "http://pythonscraping.com/pages/files/processing.php\n",
      "200\n",
      "True\n",
      "Hello there, Ryan Mitchel!\n",
      "{'Date': 'Sun, 20 May 2018 19:01:29 GMT', 'Server': 'Apache', 'Keep-Alive': 'timeout=5, max=100', 'Connection': 'Keep-Alive', 'Transfer-Encoding': 'chunked', 'Content-Type': 'text/html; charset=UTF-8'}\n"
     ]
    }
   ],
   "source": [
    "\"\"\"\n",
    "时间：20/05/2018\n",
    "作者：王若愚\n",
    "目的：\n",
    "    复习requests库\n",
    "    深入理解requests库中函数的用法与参数\n",
    "    掌握HTTP网络协议的相关原理与知识点\n",
    "\"\"\"\n",
    "\"\"\"\n",
    "练习1：提交一个基本表单\n",
    "利用HTTP从网络服务获取信息的四种方式：\n",
    "    1.GET\n",
    "      即为向网页发起浏览请求类似于输入网址浏览网站所做的事情\n",
    "    2.POST\n",
    "      填写表单或提交信息到网络服务器的后端程序时所做的事\n",
    "    3.PUT\n",
    "      用来更新一个对象或信息\n",
    "    4.DELETE\n",
    "      用于删除一个对象\n",
    "函数：\n",
    "    1.requests.post(url,data=None,json=None,**kwargs)\n",
    "        -url:\n",
    "        -data:Dictionary(需要提交到表单的信息)\n",
    "        -json:存疑\n",
    "        -**kwargs:当传入key=value时存储的字典\n",
    "       return:\n",
    "        Response object\n",
    "        Response返回的方法\n",
    "          -content:response返回的内容\n",
    "          -text:response返回的内容被解析掉非文本元素之后\n",
    "          -status_code:返回response的状态码\n",
    "          -url:返回response所返回的网页链接\n",
    "          -ok:若状态码介于400-600则返回false\n",
    "              若状态码小于400则返回true\n",
    "          -cookies:返回一个Cookies的字典\n",
    "          -headers:\n",
    "    2.requests.get(url,params=None,**kwargs)\n",
    "       return:\n",
    "        Response object \n",
    "        \n",
    "\"\"\"\n",
    "import requests\n",
    "url = \"http://pythonscraping.com/pages/files/processing.php\"\n",
    "params = {'firstname':'Ryan','lastname':'Mitchel'}\n",
    "r = requests.post(url=url,data=params)\n",
    "\n",
    "print(r.url)\n",
    "print(r.status_code)\n",
    "print(r.ok)\n",
    "print(r.text)\n",
    "print(r.headers)"
   ]
  },
  {
   "cell_type": "code",
   "execution_count": 48,
   "metadata": {
    "scrolled": false
   },
   "outputs": [
    {
     "name": "stdout",
     "output_type": "stream",
     "text": [
      "Cookie is set to: \n",
      "{}\n",
      "------------------\n",
      "Going to profile page___\n",
      "Cookie is set to: \n",
      "{}\n",
      "------------------\n",
      "Going to profile page...\n"
     ]
    }
   ],
   "source": [
    "\"\"\"\n",
    "处理登陆和cookie\n",
    "关键点：\n",
    "      1.cookie：\n",
    "           用于跟踪用户是否已登陆的状态信息。一旦网站验证了你的登陆权证，它就会将它们\n",
    "           保存在你的浏览器的cookie中，里面通常包含一个服务器生成的令牌，登陆有效实现\n",
    "           状态跟踪信息\n",
    "      2.r.cookies:返回一个cookies的字典\n",
    "      3.Session函数：\n",
    "           session = requests.Sesion()\n",
    "\"\"\"\n",
    "import requests\n",
    "url = \"http://pythonscraping.com/pages/cookies/welcome.php\"\n",
    "\n",
    "params = {'username':'Ryan','password':'password'}\n",
    "r = requests.post(url=url,data=params)\n",
    "print(\"Cookie is set to: \")\n",
    "print(r.cookies.get_dict())\n",
    "print(\"------------------\")\n",
    "print(\"Going to profile page___\")\n",
    "\n",
    "#r = requests.get(url=url,cookies=r.cookies)\n",
    "#print(r.text)\n",
    "\n",
    "session = requests.Session()\n",
    "params  = {'username':'username','password':'password'}\n",
    "s = session.post(url,params)\n",
    "print(\"Cookie is set to: \")\n",
    "print(s.cookies.get_dict())\n",
    "print(\"------------------\")\n",
    "print(\"Going to profile page...\")\n",
    "s=session.get(url)\n",
    "#print(s.text)"
   ]
  },
  {
   "cell_type": "markdown",
   "metadata": {},
   "source": [
    "# Authentication\n",
    "\n",
    "  Many web services require authentication, and there are many different types. Below, we outline various forms of authentication available in Requests, from the simple to the complex\n"
   ]
  },
  {
   "cell_type": "markdown",
   "metadata": {},
   "source": [
    "# Basic Authentication\n",
    "\n",
    "   HTTP Basic Auth\n",
    "   \n",
    "   客户端对于每一个realm，通过提供用户名和密码来进行认证的方式\n",
    "   \n",
    "   基本认证步骤：\n",
    "   \n",
    "      1.客户端访问一个受http基本认证保护的资源\n",
    "      \n",
    "      2.服务器返回401状态，要求客户端提供用户名和密码进行认证：\n",
    "      \n",
    "        401 Unauthorized\n",
    "        \n",
    "      3.客户端将输入的用户名密码用Base64进行解码后，采用非加密的明文方式传送给服务器\n",
    "      \n",
    "      4.认证成功：则返回相应的资源\n",
    "      \n",
    "        认证失败：返回401状态\n",
    "   \n",
    "   注意：\n",
    "   \n",
    "      客户端通常会缓存用户名和密码，并和authentication realm一起保存，所以，并不需 要重新输入用户名和密码    "
   ]
  },
  {
   "cell_type": "code",
   "execution_count": 40,
   "metadata": {},
   "outputs": [],
   "source": [
    "\"\"\"\n",
    "auth模块：处理HTTP认证\n",
    "    Basic Authentication:   \n",
    "\"\"\"\n",
    "import requests\n",
    "from requests.auth import AuthBase\n",
    "from requests.auth import HTTPBasicAuth\n",
    "\n",
    "auth = HTTPBasicAuth('user','pass')\n",
    "r    = requests.get(\"https://api.github.com/user\",auth=auth)\n",
    "print(r.text)"
   ]
  },
  {
   "cell_type": "markdown",
   "metadata": {},
   "source": [
    "# Digest Authentication\n",
    "\n",
    "  服务器端以nonce进行质询，客户端以用户名，密码，nonce，HTTP方法，请求的URI等信息为基础产出的response信息进行认证的方式\n",
    "   \n",
    "  认证步骤：\n",
    "\n",
    "     1.客户端访问一个受http摘要认证保护的资源\n",
    "   \n",
    "     2.服务器返回401状态以及nonce等信息，要求客户端进行认证\n",
    "   \n",
    "     3.客户端将以用户名，密码，nonce值，HTTP方法，和被请求的URI为校验值基础而加密（MD5算法）的摘要信息返回给服务器\n",
    "   \n",
    "     4.认证成功/失败  返回相应资源/4021状态\n",
    "  \n",
    "  nonce：随机字符串，每次返回401响应的时候都会返回一个不同的nonce"
   ]
  },
  {
   "cell_type": "code",
   "execution_count": 44,
   "metadata": {},
   "outputs": [
    {
     "name": "stdout",
     "output_type": "stream",
     "text": [
      "{\"authenticated\":true,\"user\":\"user\"}\n",
      "\n"
     ]
    }
   ],
   "source": [
    "from requests.auth import HTTPDigestAuth\n",
    "\n",
    "url = 'http://httpbin.org/digest-auth/auth/user/pass'\n",
    "r=requests.get(url,auth=HTTPDigestAuth('user','pass'))\n",
    "print(r.text)"
   ]
  },
  {
   "cell_type": "code",
   "execution_count": null,
   "metadata": {
    "collapsed": true
   },
   "outputs": [],
   "source": []
  }
 ],
 "metadata": {
  "kernelspec": {
   "display_name": "Python 3",
   "language": "python",
   "name": "python3"
  },
  "language_info": {
   "codemirror_mode": {
    "name": "ipython",
    "version": 3
   },
   "file_extension": ".py",
   "mimetype": "text/x-python",
   "name": "python",
   "nbconvert_exporter": "python",
   "pygments_lexer": "ipython3",
   "version": "3.6.1"
  }
 },
 "nbformat": 4,
 "nbformat_minor": 2
}
